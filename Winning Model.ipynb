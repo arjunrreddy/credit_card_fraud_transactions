{
 "cells": [
  {
   "cell_type": "code",
   "execution_count": 2,
   "metadata": {},
   "outputs": [],
   "source": [
    "import pandas as pd\n",
    "from sklearn.model_selection import train_test_split as tts\n",
    "from sklearn.ensemble import RandomForestClassifier as RF\n",
    "\n",
    "\n",
    "train_test30 = pd.read_csv('train_test_filtered_v2.csv')\n",
    "oot30 = pd.read_csv('oot_filtered_v2.csv')\n",
    "\n",
    "X = train_test30.drop('Fraud', axis = 1)\n",
    "y = train_test30['Fraud']\n",
    "\n",
    "\n",
    "X_train, X_test, y_train, y_test = tts(X, y, test_size = .3, stratify = y, random_state = 1)\n",
    "\n",
    "\n",
    "\n",
    "rf7 = RF(n_estimators = 500, max_depth = 10, criterion = 'entropy', min_samples_split = 15).fit(X_train, y_train)\n"
   ]
  }
 ],
 "metadata": {
  "kernelspec": {
   "display_name": "Python 3",
   "language": "python",
   "name": "python3"
  },
  "language_info": {
   "codemirror_mode": {
    "name": "ipython",
    "version": 3
   },
   "file_extension": ".py",
   "mimetype": "text/x-python",
   "name": "python",
   "nbconvert_exporter": "python",
   "pygments_lexer": "ipython3",
   "version": "3.8.5"
  }
 },
 "nbformat": 4,
 "nbformat_minor": 4
}
